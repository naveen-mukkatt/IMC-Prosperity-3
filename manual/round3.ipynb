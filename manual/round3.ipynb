{
 "cells": [
  {
   "cell_type": "markdown",
   "id": "b8028e67",
   "metadata": {},
   "source": [
    "# Closed-Form Solution"
   ]
  },
  {
   "cell_type": "markdown",
   "id": "64d04b5b",
   "metadata": {},
   "source": [
    "$$\n",
    "\\displaystyle\n",
    "\\left( \\sum_{k=1}^n a_k b_k \\right)^2\n",
    "\\leq\n",
    "\\left( \\sum_{k=1}^n a_k^2 \\right)\n",
    "\\left( \\sum_{k=1}^n b_k^2 \\right)\n",
    "$$"
   ]
  },
  {
   "cell_type": "markdown",
   "id": "be2b948c",
   "metadata": {},
   "source": []
  }
 ],
 "metadata": {
  "language_info": {
   "name": "python"
  }
 },
 "nbformat": 4,
 "nbformat_minor": 5
}
