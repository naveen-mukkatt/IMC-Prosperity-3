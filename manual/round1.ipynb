{
 "cells": [
  {
   "cell_type": "code",
   "execution_count": 1,
   "id": "8b70d8b4",
   "metadata": {},
   "outputs": [],
   "source": [
    "exchanges = [[1, 1.45, 0.52, 0.72], \n",
    "             [0.7, 1, 0.31, 0.48],\n",
    "             [1.95, 3.1, 1, 1.49],\n",
    "             [1.34, 1.98, 0.64, 1]]\n",
    "\n",
    "max_rate = 1"
   ]
  },
  {
   "cell_type": "code",
   "execution_count": null,
   "id": "95795c57",
   "metadata": {},
   "outputs": [
    {
     "name": "stdout",
     "output_type": "stream",
     "text": [
      "1,0,2,1\n"
     ]
    }
   ],
   "source": [
    "res = \"\"\n",
    "\n",
    "currencies = {0: \"SNOWBALLS\", 1: \"PIZZA\", 2: \"SILICON NUGGETS\", 3: \"SEASHELLS\"}\n",
    "for i in range(4):\n",
    "    for j in range(4):\n",
    "        for k in range(4):\n",
    "            for m in range(4):\n",
    "                rate = 1\n",
    "                rate *= exchanges[0][i] * exchanges[i][j] * exchanges[j][k] * exchanges[k][m] * exchanges[m][0]\n",
    "                if rate > max_rate:\n",
    "                    res = str(currencies[i]) + \",\" + str(currencies[j]) + \",\" + str(currencies[k]) + \",\" + str(currencies[m])\n",
    "                    max_rate = rate\n",
    "                print(f\"{currencies[i]}, {currencies[j]}, {currencies[k]}, {currencies[m]}, {currencies[0]}\\n\")\n",
    "\n",
    "print(res)\n",
    "print(max_rate)\n",
    "                    \n"
   ]
  },
  {
   "cell_type": "code",
   "execution_count": null,
   "id": "241ef8fa",
   "metadata": {},
   "outputs": [],
   "source": []
  }
 ],
 "metadata": {
  "kernelspec": {
   "display_name": "Python 3",
   "language": "python",
   "name": "python3"
  },
  "language_info": {
   "codemirror_mode": {
    "name": "ipython",
    "version": 3
   },
   "file_extension": ".py",
   "mimetype": "text/x-python",
   "name": "python",
   "nbconvert_exporter": "python",
   "pygments_lexer": "ipython3",
   "version": "3.12.9"
  }
 },
 "nbformat": 4,
 "nbformat_minor": 5
}
