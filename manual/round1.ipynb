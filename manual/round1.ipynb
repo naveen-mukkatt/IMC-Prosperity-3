{
 "cells": [
  {
   "cell_type": "code",
   "execution_count": null,
   "id": "8b70d8b4",
   "metadata": {},
   "outputs": [],
   "source": [
    "exchanges = [[1, 1.45, 0.52, 0.72], \n",
    "             [0.7, 1, 0.31, 0.48],\n",
    "             [1.95, 3.1, 1, 1.49],\n",
    "             [1.34, 1.98, 0.64, 1]]\n",
    "\n"
   ]
  },
  {
   "cell_type": "code",
   "execution_count": 16,
   "id": "95795c57",
   "metadata": {},
   "outputs": [
    {
     "name": "stdout",
     "output_type": "stream",
     "text": [
      "SNOWBALLS, SNOWBALLS, SNOWBALLS, SNOWBALLS, SEASHELLS, 482400.0\n",
      "\n",
      "SNOWBALLS, SNOWBALLS, SNOWBALLS, SILICON NUGGETS, SEASHELLS, 519116.0\n",
      "\n",
      "SNOWBALLS, PIZZA, SNOWBALLS, SILICON NUGGETS, SEASHELLS, 526902.74\n",
      "\n",
      "SNOWBALLS, SILICON NUGGETS, PIZZA, SNOWBALLS, SEASHELLS, 544340.1599999999\n",
      "\n"
     ]
    }
   ],
   "source": [
    "\n",
    "res = \"\"\n",
    "max_amt = 500000\n",
    "\n",
    "currencies = {0: \"SNOWBALLS\", 1: \"PIZZA\", 2: \"SILICON NUGGETS\", 3: \"SEASHELLS\"}\n",
    "for i in range(4):\n",
    "    for j in range(4):\n",
    "        for k in range(4):\n",
    "            for m in range(4):\n",
    "                start_amt = 500000\n",
    "                start_amt *= exchanges[3][i] * exchanges[i][j] * exchanges[j][k] * exchanges[k][m] * exchanges[m][3]\n",
    "                if start_amt > max_rate:\n",
    "                    res = f\"{currencies[i]}, {currencies[j]}, {currencies[k]}, {currencies[m]}, {currencies[3]}, {start_amt}\\n\"\n",
    "                    max_rate = start_amt\n",
    "                    print(res)\n",
    "                    "
   ]
  },
  {
   "cell_type": "code",
   "execution_count": null,
   "id": "241ef8fa",
   "metadata": {},
   "outputs": [
    {
     "name": "stdout",
     "output_type": "stream",
     "text": [
      "\n"
     ]
    }
   ],
   "source": [
    "print(res)\n",
    "print(max_rate)"
   ]
  },
  {
   "cell_type": "code",
   "execution_count": null,
   "id": "02cde01c",
   "metadata": {},
   "outputs": [],
   "source": []
  }
 ],
 "metadata": {
  "kernelspec": {
   "display_name": "Python 3",
   "language": "python",
   "name": "python3"
  },
  "language_info": {
   "codemirror_mode": {
    "name": "ipython",
    "version": 3
   },
   "file_extension": ".py",
   "mimetype": "text/x-python",
   "name": "python",
   "nbconvert_exporter": "python",
   "pygments_lexer": "ipython3",
   "version": "3.12.9"
  }
 },
 "nbformat": 4,
 "nbformat_minor": 5
}
