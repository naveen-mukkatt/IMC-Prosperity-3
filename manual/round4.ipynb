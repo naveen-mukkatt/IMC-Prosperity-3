{
 "cells": [
  {
   "cell_type": "code",
   "execution_count": 14,
   "id": "57c1f72d",
   "metadata": {},
   "outputs": [
    {
     "name": "stdout",
     "output_type": "stream",
     "text": [
      "80 8.13\n",
      "50 4.83\n",
      "83 7.66\n",
      "31 3.48\n",
      "60 6.6\n",
      "89 7.72\n",
      "10 0.77\n",
      "37 3.54\n",
      "70 8.36\n",
      "90 5.9\n",
      "17 2.0\n",
      "40 4.07\n",
      "73 8.89\n",
      "100 2.66\n",
      "20 1.53\n",
      "41 4.24\n",
      "79 8.95\n",
      "23 2.06\n",
      "47 5.3\n",
      "30 3.3\n"
     ]
    }
   ],
   "source": [
    "cases = [80, 50, 83, 31, 60, 89, 10, 37, 70, 90, 17, 40, 73, 100, 20, 41, 79, 23, 47, 30]\n",
    "ppl = [6, 4, 7, 2, 4, 8, 1, 3, 4, 10, 1, 3, 4, 15, 2, 3, 5, 2, 3, 2]\n",
    "\n",
    "# cases[i] / (ppl[i] + per[i]) = k for all i\n",
    "# per[i] = cases[i] / k - ppl[i]\n",
    "# pick k such that sum(per) = 100\n",
    "# pick too low, sum is too high; pick too high, sum is too low\n",
    "# 1 is too low, 10 is too high\n",
    "\n",
    "low = 1\n",
    "high = 10\n",
    "mid = (low + high) / 2\n",
    "\n",
    "for i in range(100):\n",
    "    per = [cases[i] / mid - ppl[i] for i in range(len(cases))]\n",
    "    per_total = 0\n",
    "    for i in per:\n",
    "        per_total += i\n",
    "    if per_total > 100:\n",
    "        low = mid\n",
    "    else:\n",
    "        high = mid\n",
    "    mid = (low + high) / 2\n",
    "\n",
    "per = [cases[i] / mid - ppl[i] for i in range(len(cases))]\n",
    "for i in range(len(per)):\n",
    "    print(cases[i], round(100 * per[i]) / 100)"
   ]
  }
 ],
 "metadata": {
  "kernelspec": {
   "display_name": "Python 3",
   "language": "python",
   "name": "python3"
  },
  "language_info": {
   "codemirror_mode": {
    "name": "ipython",
    "version": 3
   },
   "file_extension": ".py",
   "mimetype": "text/x-python",
   "name": "python",
   "nbconvert_exporter": "python",
   "pygments_lexer": "ipython3",
   "version": "3.11.5"
  }
 },
 "nbformat": 4,
 "nbformat_minor": 5
}
